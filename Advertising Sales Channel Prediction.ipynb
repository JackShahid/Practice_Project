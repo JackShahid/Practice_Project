{
 "cells": [
  {
   "cell_type": "markdown",
   "metadata": {},
   "source": [
    "# Sales Channel Prediction Case Study  "
   ]
  },
  {
   "cell_type": "markdown",
   "metadata": {},
   "source": [
    "When a company enters a market, the distribution strategy and channel it uses are keys to its success in the market, as well as market know-how and customer knowledge and understanding. Because an effective distribution strategy under efficient supply-chain management opens doors for attaining competitive advantage and strong brand equity in the market, it is a component of the marketing mix that cannot be ignored . \n",
    "\n",
    "The distribution strategy and the channel design have to be right the first time. The case study of Sales channel includes the detailed study of TV, radio and newspaper channel. The predict the total sales generated from all the sales channel.  "
   ]
  },
  {
   "cell_type": "code",
   "execution_count": 1,
   "metadata": {},
   "outputs": [],
   "source": [
    "import pandas as pd\n",
    "import numpy as np\n",
    "import matplotlib.pyplot as plt\n",
    "import seaborn as sns\n",
    "import warnings\n",
    "warnings.filterwarnings(\"ignore\")"
   ]
  },
  {
   "cell_type": "code",
   "execution_count": 2,
   "metadata": {},
   "outputs": [
    {
     "data": {
      "text/html": [
       "<div>\n",
       "<style scoped>\n",
       "    .dataframe tbody tr th:only-of-type {\n",
       "        vertical-align: middle;\n",
       "    }\n",
       "\n",
       "    .dataframe tbody tr th {\n",
       "        vertical-align: top;\n",
       "    }\n",
       "\n",
       "    .dataframe thead th {\n",
       "        text-align: right;\n",
       "    }\n",
       "</style>\n",
       "<table border=\"1\" class=\"dataframe\">\n",
       "  <thead>\n",
       "    <tr style=\"text-align: right;\">\n",
       "      <th></th>\n",
       "      <th>TV</th>\n",
       "      <th>Radio</th>\n",
       "      <th>Newspaper</th>\n",
       "      <th>Sales</th>\n",
       "    </tr>\n",
       "  </thead>\n",
       "  <tbody>\n",
       "    <tr>\n",
       "      <th>0</th>\n",
       "      <td>230.1</td>\n",
       "      <td>37.8</td>\n",
       "      <td>69.2</td>\n",
       "      <td>22.1</td>\n",
       "    </tr>\n",
       "    <tr>\n",
       "      <th>1</th>\n",
       "      <td>44.5</td>\n",
       "      <td>39.3</td>\n",
       "      <td>45.1</td>\n",
       "      <td>10.4</td>\n",
       "    </tr>\n",
       "    <tr>\n",
       "      <th>2</th>\n",
       "      <td>17.2</td>\n",
       "      <td>45.9</td>\n",
       "      <td>69.3</td>\n",
       "      <td>12.0</td>\n",
       "    </tr>\n",
       "    <tr>\n",
       "      <th>3</th>\n",
       "      <td>151.5</td>\n",
       "      <td>41.3</td>\n",
       "      <td>58.5</td>\n",
       "      <td>16.5</td>\n",
       "    </tr>\n",
       "    <tr>\n",
       "      <th>4</th>\n",
       "      <td>180.8</td>\n",
       "      <td>10.8</td>\n",
       "      <td>58.4</td>\n",
       "      <td>17.9</td>\n",
       "    </tr>\n",
       "    <tr>\n",
       "      <th>...</th>\n",
       "      <td>...</td>\n",
       "      <td>...</td>\n",
       "      <td>...</td>\n",
       "      <td>...</td>\n",
       "    </tr>\n",
       "    <tr>\n",
       "      <th>195</th>\n",
       "      <td>38.2</td>\n",
       "      <td>3.7</td>\n",
       "      <td>13.8</td>\n",
       "      <td>7.6</td>\n",
       "    </tr>\n",
       "    <tr>\n",
       "      <th>196</th>\n",
       "      <td>94.2</td>\n",
       "      <td>4.9</td>\n",
       "      <td>8.1</td>\n",
       "      <td>14.0</td>\n",
       "    </tr>\n",
       "    <tr>\n",
       "      <th>197</th>\n",
       "      <td>177.0</td>\n",
       "      <td>9.3</td>\n",
       "      <td>6.4</td>\n",
       "      <td>14.8</td>\n",
       "    </tr>\n",
       "    <tr>\n",
       "      <th>198</th>\n",
       "      <td>283.6</td>\n",
       "      <td>42.0</td>\n",
       "      <td>66.2</td>\n",
       "      <td>25.5</td>\n",
       "    </tr>\n",
       "    <tr>\n",
       "      <th>199</th>\n",
       "      <td>232.1</td>\n",
       "      <td>8.6</td>\n",
       "      <td>8.7</td>\n",
       "      <td>18.4</td>\n",
       "    </tr>\n",
       "  </tbody>\n",
       "</table>\n",
       "<p>200 rows × 4 columns</p>\n",
       "</div>"
      ],
      "text/plain": [
       "        TV  Radio  Newspaper  Sales\n",
       "0    230.1   37.8       69.2   22.1\n",
       "1     44.5   39.3       45.1   10.4\n",
       "2     17.2   45.9       69.3   12.0\n",
       "3    151.5   41.3       58.5   16.5\n",
       "4    180.8   10.8       58.4   17.9\n",
       "..     ...    ...        ...    ...\n",
       "195   38.2    3.7       13.8    7.6\n",
       "196   94.2    4.9        8.1   14.0\n",
       "197  177.0    9.3        6.4   14.8\n",
       "198  283.6   42.0       66.2   25.5\n",
       "199  232.1    8.6        8.7   18.4\n",
       "\n",
       "[200 rows x 4 columns]"
      ]
     },
     "execution_count": 2,
     "metadata": {},
     "output_type": "execute_result"
    }
   ],
   "source": [
    "sales = pd.read_csv(\"advertising.csv\")\n",
    "sales"
   ]
  },
  {
   "cell_type": "code",
   "execution_count": 3,
   "metadata": {},
   "outputs": [
    {
     "data": {
      "text/html": [
       "<div>\n",
       "<style scoped>\n",
       "    .dataframe tbody tr th:only-of-type {\n",
       "        vertical-align: middle;\n",
       "    }\n",
       "\n",
       "    .dataframe tbody tr th {\n",
       "        vertical-align: top;\n",
       "    }\n",
       "\n",
       "    .dataframe thead th {\n",
       "        text-align: right;\n",
       "    }\n",
       "</style>\n",
       "<table border=\"1\" class=\"dataframe\">\n",
       "  <thead>\n",
       "    <tr style=\"text-align: right;\">\n",
       "      <th></th>\n",
       "      <th>TV</th>\n",
       "      <th>Radio</th>\n",
       "      <th>Newspaper</th>\n",
       "      <th>Sales</th>\n",
       "    </tr>\n",
       "  </thead>\n",
       "  <tbody>\n",
       "    <tr>\n",
       "      <th>0</th>\n",
       "      <td>230.1</td>\n",
       "      <td>37.8</td>\n",
       "      <td>69.2</td>\n",
       "      <td>22.1</td>\n",
       "    </tr>\n",
       "    <tr>\n",
       "      <th>1</th>\n",
       "      <td>44.5</td>\n",
       "      <td>39.3</td>\n",
       "      <td>45.1</td>\n",
       "      <td>10.4</td>\n",
       "    </tr>\n",
       "    <tr>\n",
       "      <th>2</th>\n",
       "      <td>17.2</td>\n",
       "      <td>45.9</td>\n",
       "      <td>69.3</td>\n",
       "      <td>12.0</td>\n",
       "    </tr>\n",
       "    <tr>\n",
       "      <th>3</th>\n",
       "      <td>151.5</td>\n",
       "      <td>41.3</td>\n",
       "      <td>58.5</td>\n",
       "      <td>16.5</td>\n",
       "    </tr>\n",
       "    <tr>\n",
       "      <th>4</th>\n",
       "      <td>180.8</td>\n",
       "      <td>10.8</td>\n",
       "      <td>58.4</td>\n",
       "      <td>17.9</td>\n",
       "    </tr>\n",
       "  </tbody>\n",
       "</table>\n",
       "</div>"
      ],
      "text/plain": [
       "      TV  Radio  Newspaper  Sales\n",
       "0  230.1   37.8       69.2   22.1\n",
       "1   44.5   39.3       45.1   10.4\n",
       "2   17.2   45.9       69.3   12.0\n",
       "3  151.5   41.3       58.5   16.5\n",
       "4  180.8   10.8       58.4   17.9"
      ]
     },
     "execution_count": 3,
     "metadata": {},
     "output_type": "execute_result"
    }
   ],
   "source": [
    "sales.head()"
   ]
  },
  {
   "cell_type": "code",
   "execution_count": 4,
   "metadata": {},
   "outputs": [
    {
     "data": {
      "text/plain": [
       "(200, 4)"
      ]
     },
     "execution_count": 4,
     "metadata": {},
     "output_type": "execute_result"
    }
   ],
   "source": [
    "sales.shape"
   ]
  },
  {
   "cell_type": "code",
   "execution_count": 5,
   "metadata": {},
   "outputs": [
    {
     "name": "stdout",
     "output_type": "stream",
     "text": [
      "<class 'pandas.core.frame.DataFrame'>\n",
      "RangeIndex: 200 entries, 0 to 199\n",
      "Data columns (total 4 columns):\n",
      " #   Column     Non-Null Count  Dtype  \n",
      "---  ------     --------------  -----  \n",
      " 0   TV         200 non-null    float64\n",
      " 1   Radio      200 non-null    float64\n",
      " 2   Newspaper  200 non-null    float64\n",
      " 3   Sales      200 non-null    float64\n",
      "dtypes: float64(4)\n",
      "memory usage: 6.4 KB\n"
     ]
    }
   ],
   "source": [
    "sales.info()"
   ]
  },
  {
   "cell_type": "markdown",
   "metadata": {},
   "source": [
    "# Data Cleaning"
   ]
  },
  {
   "cell_type": "code",
   "execution_count": 7,
   "metadata": {},
   "outputs": [
    {
     "data": {
      "text/plain": [
       "TV           0\n",
       "Radio        0\n",
       "Newspaper    0\n",
       "Sales        0\n",
       "dtype: int64"
      ]
     },
     "execution_count": 7,
     "metadata": {},
     "output_type": "execute_result"
    }
   ],
   "source": [
    "sales.isnull().sum()"
   ]
  },
  {
   "cell_type": "markdown",
   "metadata": {},
   "source": [
    "There are no NULL values in the dataset, hence it is clean."
   ]
  },
  {
   "cell_type": "code",
   "execution_count": 8,
   "metadata": {},
   "outputs": [
    {
     "data": {
      "text/plain": [
       "<AxesSubplot:>"
      ]
     },
     "execution_count": 8,
     "metadata": {},
     "output_type": "execute_result"
    },
    {
     "data": {
      "image/png": "[encoded data removed]",
      "text/plain": [
       "<Figure size 432x288 with 2 Axes>"
      ]
     },
     "metadata": {
      "needs_background": "light"
     },
     "output_type": "display_data"
    }
   ],
   "source": [
    "sns.heatmap(sales.isnull())"
   ]
  },
  {
   "cell_type": "markdown",
   "metadata": {},
   "source": [
    "Summary Statistics"
   ]
  },
  {
   "cell_type": "code",
   "execution_count": 9,
   "metadata": {},
   "outputs": [
    {
     "data": {
      "text/html": [
       "<div>\n",
       "<style scoped>\n",
       "    .dataframe tbody tr th:only-of-type {\n",
       "        vertical-align: middle;\n",
       "    }\n",
       "\n",
       "    .dataframe tbody tr th {\n",
       "        vertical-align: top;\n",
       "    }\n",
       "\n",
       "    .dataframe thead th {\n",
       "        text-align: right;\n",
       "    }\n",
       "</style>\n",
       "<table border=\"1\" class=\"dataframe\">\n",
       "  <thead>\n",
       "    <tr style=\"text-align: right;\">\n",
       "      <th></th>\n",
       "      <th>TV</th>\n",
       "      <th>Radio</th>\n",
       "      <th>Newspaper</th>\n",
       "      <th>Sales</th>\n",
       "    </tr>\n",
       "  </thead>\n",
       "  <tbody>\n",
       "    <tr>\n",
       "      <th>count</th>\n",
       "      <td>200.000000</td>\n",
       "      <td>200.000000</td>\n",
       "      <td>200.000000</td>\n",
       "      <td>200.000000</td>\n",
       "    </tr>\n",
       "    <tr>\n",
       "      <th>mean</th>\n",
       "      <td>147.042500</td>\n",
       "      <td>23.264000</td>\n",
       "      <td>30.554000</td>\n",
       "      <td>15.130500</td>\n",
       "    </tr>\n",
       "    <tr>\n",
       "      <th>std</th>\n",
       "      <td>85.854236</td>\n",
       "      <td>14.846809</td>\n",
       "      <td>21.778621</td>\n",
       "      <td>5.283892</td>\n",
       "    </tr>\n",
       "    <tr>\n",
       "      <th>min</th>\n",
       "      <td>0.700000</td>\n",
       "      <td>0.000000</td>\n",
       "      <td>0.300000</td>\n",
       "      <td>1.600000</td>\n",
       "    </tr>\n",
       "    <tr>\n",
       "      <th>25%</th>\n",
       "      <td>74.375000</td>\n",
       "      <td>9.975000</td>\n",
       "      <td>12.750000</td>\n",
       "      <td>11.000000</td>\n",
       "    </tr>\n",
       "    <tr>\n",
       "      <th>50%</th>\n",
       "      <td>149.750000</td>\n",
       "      <td>22.900000</td>\n",
       "      <td>25.750000</td>\n",
       "      <td>16.000000</td>\n",
       "    </tr>\n",
       "    <tr>\n",
       "      <th>75%</th>\n",
       "      <td>218.825000</td>\n",
       "      <td>36.525000</td>\n",
       "      <td>45.100000</td>\n",
       "      <td>19.050000</td>\n",
       "    </tr>\n",
       "    <tr>\n",
       "      <th>max</th>\n",
       "      <td>296.400000</td>\n",
       "      <td>49.600000</td>\n",
       "      <td>114.000000</td>\n",
       "      <td>27.000000</td>\n",
       "    </tr>\n",
       "  </tbody>\n",
       "</table>\n",
       "</div>"
      ],
      "text/plain": [
       "               TV       Radio   Newspaper       Sales\n",
       "count  200.000000  200.000000  200.000000  200.000000\n",
       "mean   147.042500   23.264000   30.554000   15.130500\n",
       "std     85.854236   14.846809   21.778621    5.283892\n",
       "min      0.700000    0.000000    0.300000    1.600000\n",
       "25%     74.375000    9.975000   12.750000   11.000000\n",
       "50%    149.750000   22.900000   25.750000   16.000000\n",
       "75%    218.825000   36.525000   45.100000   19.050000\n",
       "max    296.400000   49.600000  114.000000   27.000000"
      ]
     },
     "execution_count": 9,
     "metadata": {},
     "output_type": "execute_result"
    }
   ],
   "source": [
    "sales.describe()"
   ]
  },
  {
   "cell_type": "markdown",
   "metadata": {},
   "source": [
    "High standard deviation are present in TV, Radio, Newspaper, means data is spread too much.\n",
    "\n",
    "Newspaper has mean greater than median, it means data has skewness. Large gap between 75 percentile and max in Newspaper, hence outliers are present."
   ]
  },
  {
   "cell_type": "code",
   "execution_count": 10,
   "metadata": {},
   "outputs": [
    {
     "data": {
      "text/plain": [
       "TV          -0.069853\n",
       "Radio        0.094175\n",
       "Newspaper    0.894720\n",
       "Sales       -0.073739\n",
       "dtype: float64"
      ]
     },
     "execution_count": 10,
     "metadata": {},
     "output_type": "execute_result"
    }
   ],
   "source": [
    "sales.skew()"
   ]
  },
  {
   "cell_type": "markdown",
   "metadata": {},
   "source": [
    "# EDA"
   ]
  },
  {
   "cell_type": "code",
   "execution_count": 11,
   "metadata": {},
   "outputs": [
    {
     "data": {
      "text/plain": [
       "<AxesSubplot:>"
      ]
     },
     "execution_count": 11,
     "metadata": {},
     "output_type": "execute_result"
    },
    {
     "data": {
      "image/png": "[encoded data removed]",
      "text/plain": [
       "<Figure size 432x288 with 1 Axes>"
      ]
     },
     "metadata": {
      "needs_background": "light"
     },
     "output_type": "display_data"
    }
   ],
   "source": [
    "sales['TV'].plot.box()"
   ]
  },
  {
   "cell_type": "code",
   "execution_count": 12,
   "metadata": {},
   "outputs": [
    {
     "data": {
      "text/plain": [
       "<AxesSubplot:>"
      ]
     },
     "execution_count": 12,
     "metadata": {},
     "output_type": "execute_result"
    },
    {
     "data": {
      "image/png": "[encoded data removed]",
      "text/plain": [
       "<Figure size 432x288 with 1 Axes>"
      ]
     },
     "metadata": {
      "needs_background": "light"
     },
     "output_type": "display_data"
    }
   ],
   "source": [
    "sales['Radio'].plot.box()"
   ]
  },
  {
   "cell_type": "code",
   "execution_count": 13,
   "metadata": {},
   "outputs": [
    {
     "data": {
      "text/plain": [
       "<AxesSubplot:>"
      ]
     },
     "execution_count": 13,
     "metadata": {},
     "output_type": "execute_result"
    },
    {
     "data": {
      "image/png": "[encoded data removed]",
      "text/plain": [
       "<Figure size 432x288 with 1 Axes>"
      ]
     },
     "metadata": {
      "needs_background": "light"
     },
     "output_type": "display_data"
    }
   ],
   "source": [
    "sales['Newspaper'].plot.box()"
   ]
  },
  {
   "cell_type": "code",
   "execution_count": 14,
   "metadata": {},
   "outputs": [
    {
     "data": {
      "text/plain": [
       "<AxesSubplot:>"
      ]
     },
     "execution_count": 14,
     "metadata": {},
     "output_type": "execute_result"
    },
    {
     "data": {
      "image/png": "[encoded data removed]",
      "text/plain": [
       "<Figure size 432x288 with 1 Axes>"
      ]
     },
     "metadata": {
      "needs_background": "light"
     },
     "output_type": "display_data"
    }
   ],
   "source": [
    "sales['Sales'].plot.box()"
   ]
  },
  {
   "cell_type": "markdown",
   "metadata": {},
   "source": [
    "# Correlation"
   ]
  },
  {
   "cell_type": "code",
   "execution_count": 19,
   "metadata": {},
   "outputs": [
    {
     "data": {
      "text/html": [
       "<div>\n",
       "<style scoped>\n",
       "    .dataframe tbody tr th:only-of-type {\n",
       "        vertical-align: middle;\n",
       "    }\n",
       "\n",
       "    .dataframe tbody tr th {\n",
       "        vertical-align: top;\n",
       "    }\n",
       "\n",
       "    .dataframe thead th {\n",
       "        text-align: right;\n",
       "    }\n",
       "</style>\n",
       "<table border=\"1\" class=\"dataframe\">\n",
       "  <thead>\n",
       "    <tr style=\"text-align: right;\">\n",
       "      <th></th>\n",
       "      <th>TV</th>\n",
       "      <th>Radio</th>\n",
       "      <th>Newspaper</th>\n",
       "      <th>Sales</th>\n",
       "    </tr>\n",
       "  </thead>\n",
       "  <tbody>\n",
       "    <tr>\n",
       "      <th>TV</th>\n",
       "      <td>1.000000</td>\n",
       "      <td>0.054809</td>\n",
       "      <td>0.056648</td>\n",
       "      <td>0.901208</td>\n",
       "    </tr>\n",
       "    <tr>\n",
       "      <th>Radio</th>\n",
       "      <td>0.054809</td>\n",
       "      <td>1.000000</td>\n",
       "      <td>0.354104</td>\n",
       "      <td>0.349631</td>\n",
       "    </tr>\n",
       "    <tr>\n",
       "      <th>Newspaper</th>\n",
       "      <td>0.056648</td>\n",
       "      <td>0.354104</td>\n",
       "      <td>1.000000</td>\n",
       "      <td>0.157960</td>\n",
       "    </tr>\n",
       "    <tr>\n",
       "      <th>Sales</th>\n",
       "      <td>0.901208</td>\n",
       "      <td>0.349631</td>\n",
       "      <td>0.157960</td>\n",
       "      <td>1.000000</td>\n",
       "    </tr>\n",
       "  </tbody>\n",
       "</table>\n",
       "</div>"
      ],
      "text/plain": [
       "                 TV     Radio  Newspaper     Sales\n",
       "TV         1.000000  0.054809   0.056648  0.901208\n",
       "Radio      0.054809  1.000000   0.354104  0.349631\n",
       "Newspaper  0.056648  0.354104   1.000000  0.157960\n",
       "Sales      0.901208  0.349631   0.157960  1.000000"
      ]
     },
     "execution_count": 19,
     "metadata": {},
     "output_type": "execute_result"
    }
   ],
   "source": [
    "sales.corr()"
   ]
  },
  {
   "cell_type": "code",
   "execution_count": 21,
   "metadata": {},
   "outputs": [
    {
     "data": {
      "text/plain": [
       "<AxesSubplot:>"
      ]
     },
     "execution_count": 21,
     "metadata": {},
     "output_type": "execute_result"
    },
    {
     "data": {
      "image/png": "[encoded data removed]",
      "text/plain": [
       "<Figure size 1080x504 with 2 Axes>"
      ]
     },
     "metadata": {
      "needs_background": "light"
     },
     "output_type": "display_data"
    }
   ],
   "source": [
    "# Correlation using Heatmap\n",
    "\n",
    "import matplotlib.pyplot as plt\n",
    "plt.figure(figsize = (15,7))\n",
    "sns.heatmap(sales.corr(), annot = True, linewidth = 0.5, linecolor= 'black', fmt= '.2f')"
   ]
  },
  {
   "cell_type": "markdown",
   "metadata": {},
   "source": [
    "Outcome of Correlation:-\n",
    "\n",
    "Max Correlation : \n",
    "            TV and Radio\n",
    "    \n",
    "Min Correlation:\n",
    "            Newspaper"
   ]
  },
  {
   "cell_type": "markdown",
   "metadata": {},
   "source": [
    "# Normal Distribution Curve"
   ]
  },
  {
   "cell_type": "code",
   "execution_count": 22,
   "metadata": {},
   "outputs": [
    {
     "data": {
      "text/plain": [
       "<AxesSubplot:xlabel='TV', ylabel='Density'>"
      ]
     },
     "execution_count": 22,
     "metadata": {},
     "output_type": "execute_result"
    },
    {
     "data": {
      "image/png": "[encoded data removed]",
      "text/plain": [
       "<Figure size 432x288 with 1 Axes>"
      ]
     },
     "metadata": {
      "needs_background": "light"
     },
     "output_type": "display_data"
    }
   ],
   "source": [
    "# for Visualize skewness\n",
    "sns.distplot(sales['TV'])"
   ]
  },
  {
   "cell_type": "code",
   "execution_count": 23,
   "metadata": {},
   "outputs": [
    {
     "data": {
      "text/plain": [
       "<AxesSubplot:xlabel='Radio', ylabel='Density'>"
      ]
     },
     "execution_count": 23,
     "metadata": {},
     "output_type": "execute_result"
    },
    {
     "data": {
      "image/png": "[encoded data removed]",
      "text/plain": [
       "<Figure size 432x288 with 1 Axes>"
      ]
     },
     "metadata": {
      "needs_background": "light"
     },
     "output_type": "display_data"
    }
   ],
   "source": [
    "sns.distplot(sales['Radio'])"
   ]
  },
  {
   "cell_type": "code",
   "execution_count": 24,
   "metadata": {},
   "outputs": [
    {
     "data": {
      "text/plain": [
       "<AxesSubplot:xlabel='Newspaper', ylabel='Density'>"
      ]
     },
     "execution_count": 24,
     "metadata": {},
     "output_type": "execute_result"
    },
    {
     "data": {
      "image/png": "[encoded data removed]",
      "text/plain": [
       "<Figure size 432x288 with 1 Axes>"
      ]
     },
     "metadata": {
      "needs_background": "light"
     },
     "output_type": "display_data"
    }
   ],
   "source": [
    "sns.distplot(sales['Newspaper'])"
   ]
  },
  {
   "cell_type": "code",
   "execution_count": 25,
   "metadata": {},
   "outputs": [
    {
     "data": {
      "text/plain": [
       "<AxesSubplot:xlabel='Sales', ylabel='Density'>"
      ]
     },
     "execution_count": 25,
     "metadata": {},
     "output_type": "execute_result"
    },
    {
     "data": {
      "image/png": "[encoded data removed]",
      "text/plain": [
       "<Figure size 432x288 with 1 Axes>"
      ]
     },
     "metadata": {
      "needs_background": "light"
     },
     "output_type": "display_data"
    }
   ],
   "source": [
    "sns.distplot(sales['Sales'])"
   ]
  },
  {
   "cell_type": "code",
   "execution_count": 15,
   "metadata": {},
   "outputs": [
    {
     "data": {
      "text/plain": [
       "array([[9.69852266e-01, 9.81522472e-01, 1.77894547e+00, 1.32231867e+00],\n",
       "       [1.19737623e+00, 1.08280781e+00, 6.69578760e-01, 8.97514665e-01],\n",
       "       [1.51615499e+00, 1.52846331e+00, 1.78354865e+00, 5.93947713e-01],\n",
       "       [5.20496822e-02, 1.21785493e+00, 1.28640506e+00, 2.59834337e-01],\n",
       "       [3.94182198e-01, 8.41613655e-01, 1.28180188e+00, 5.25455420e-01],\n",
       "       [1.61540845e+00, 1.73103399e+00, 2.04592999e+00, 1.50464857e+00],\n",
       "       [1.04557682e+00, 6.43904671e-01, 3.24708413e-01, 6.31893582e-01],\n",
       "       [3.13436589e-01, 2.47406325e-01, 8.72486994e-01, 3.66272500e-01],\n",
       "       [1.61657614e+00, 1.42906863e+00, 1.36042422e+00, 1.95999899e+00],\n",
       "       [6.16042873e-01, 1.39530685e+00, 4.30581584e-01, 8.90779273e-02],\n",
       "       [9.45155670e-01, 1.17923146e+00, 2.92486143e-01, 4.80110107e-01],\n",
       "       [7.90028350e-01, 4.96973404e-02, 1.22232878e+00, 4.30590748e-01],\n",
       "       [1.43908760e+00, 7.99208859e-01, 1.62704048e+00, 1.12518988e+00],\n",
       "       [5.78501712e-01, 1.05768905e+00, 1.07502697e+00, 2.71407828e-01],\n",
       "       [6.66253447e-01, 6.50657027e-01, 7.11007392e-01, 7.34157699e-01],\n",
       "       [5.64664612e-01, 1.65000572e+00, 1.02862691e+00, 1.37923747e+00],\n",
       "       [9.25304978e-01, 9.00494200e-01, 3.84117072e+00, 4.99083041e-01],\n",
       "       [1.56887609e+00, 1.10306488e+00, 1.16211917e+00, 1.75869616e+00],\n",
       "       [9.08957349e-01, 1.86635121e-01, 5.64073843e-01, 7.26758255e-01],\n",
       "       [3.00679600e-03, 4.29449843e-02, 5.27248393e-01, 1.00651417e-01],\n",
       "       [8.33232798e-01, 2.99534513e-01, 1.05164281e+00, 5.44428354e-01],\n",
       "       [1.05509347e+00, 1.22649795e+00, 3.24708413e-01, 4.49563682e-01],\n",
       "       [1.56286250e+00, 4.97243498e-01, 8.76721921e-01, 1.80821552e+00],\n",
       "       [9.48833887e-01, 4.29719938e-01, 2.00422516e-01, 1.01875172e+00],\n",
       "       [9.89527805e-01, 7.20071247e-01, 5.64073843e-01, 1.03032521e+00],\n",
       "       [1.35285385e+00, 1.33453565e+00, 5.08835667e-01, 3.54699010e-01],\n",
       "       [4.83714657e-02, 4.07572210e-01, 8.26455181e-01, 2.47596795e-02],\n",
       "       [1.08662104e+00, 4.43224650e-01, 3.52327501e-01, 1.09464345e+00],\n",
       "       [1.18820988e+00, 2.59020377e-01, 3.52327501e-01, 7.15184765e-01],\n",
       "       [8.92609721e-01, 4.90491142e-01, 4.71641962e-01, 8.78541730e-01],\n",
       "       [1.70316018e+00, 3.40048650e-01, 5.82118314e-01, 1.18950813e+00],\n",
       "       [3.98677796e-01, 3.95958157e-01, 3.70371972e-01, 6.12920648e-01],\n",
       "       [5.82004775e-01, 1.46958277e+00, 2.55016247e-02, 3.66272500e-01],\n",
       "       [1.38438142e+00, 2.20396901e-01, 1.39264649e+00, 4.30590748e-01],\n",
       "       [5.99520091e-01, 1.47633512e+00, 1.06582061e+00, 6.12920648e-01],\n",
       "       [1.67747105e+00, 1.29402151e+00, 1.01518562e+00, 5.06482486e-01],\n",
       "       [1.39956136e+00, 1.38666383e+00, 1.17629696e+00, 1.94842550e+00],\n",
       "       [8.44734522e-01, 1.76479577e+00, 6.97197848e-01, 8.16784829e-02],\n",
       "       [1.21372386e+00, 2.32010953e-01, 2.09260624e-01, 9.54433468e-01],\n",
       "       [9.45330823e-01, 9.74770116e-01, 6.65620024e-02, 1.20848106e+00],\n",
       "       [6.47570443e-01, 6.50927121e-02, 4.81492770e-02, 2.78807272e-01],\n",
       "       [3.49810063e-01, 6.84418807e-01, 3.74975153e-01, 3.73671944e-01],\n",
       "       [1.71133400e+00, 2.99534513e-01, 1.32359877e+00, 1.05669758e+00],\n",
       "       [6.98948705e-01, 1.00367020e+00, 1.91216154e-01, 5.25455420e-01],\n",
       "       [1.42390765e+00, 1.64487393e-01, 5.86721496e-01, 1.25800042e+00],\n",
       "       [3.27623995e-01, 5.15880000e-02, 4.35460956e-02, 1.83942600e-01],\n",
       "       [6.69581357e-01, 9.02384859e-01, 2.36879713e-01, 8.59568796e-01],\n",
       "       [1.08428567e+00, 1.23135965e+00, 5.54867481e-01, 1.53102095e+00],\n",
       "       [9.35989321e-01, 5.03995854e-01, 8.90531465e-01, 8.85941175e-01],\n",
       "       [9.35814168e-01, 7.80842451e-01, 2.87514708e-01, 1.03032521e+00],\n",
       "       [6.16042873e-01, 1.36154507e+00, 1.86244718e-01, 2.40861403e-01],\n",
       "       [5.44638766e-01, 9.22641928e-01, 1.24074150e+00, 8.40595861e-01],\n",
       "       [8.09879042e-01, 1.24486436e+00, 4.16403786e-01, 1.41718334e+00],\n",
       "       [4.15200577e-01, 1.54872038e+00, 1.29561142e+00, 1.15156226e+00],\n",
       "       [1.35051848e+00, 3.73810430e-01, 6.74550196e-01, 9.61832913e-01],\n",
       "       [6.05533683e-01, 1.76479577e+00, 1.35545278e+00, 1.62588562e+00],\n",
       "       [1.63175608e+00, 3.26543937e-01, 4.99261050e-01, 1.82718845e+00],\n",
       "       [1.26606546e-01, 2.74415749e-01, 6.42327927e-01, 3.66272500e-01],\n",
       "       [7.44488528e-01, 1.77830048e+00, 3.28943340e-01, 1.64485855e+00],\n",
       "       [7.43320840e-01, 4.21076922e-01, 9.78360166e-01, 6.20320092e-01],\n",
       "       [1.09228433e+00, 1.43582099e+00, 4.21375221e-01, 1.33389216e+00],\n",
       "       [1.33417085e+00, 1.31238792e+00, 1.11148417e+00, 1.72075029e+00],\n",
       "       [1.07727954e+00, 5.24252922e-01, 1.49787521e-01, 1.05669758e+00],\n",
       "       [5.17781948e-01, 4.27829278e-01, 1.01978880e+00, 2.14489024e-01],\n",
       "       [1.86158622e-01, 1.31914027e+00, 7.61366196e-02, 1.64969665e-01],\n",
       "       [9.11292725e-01, 9.42898996e-01, 1.36502740e+00, 7.26758255e-01],\n",
       "       [1.34917564e+00, 9.02114765e-02, 1.30518604e+00, 7.83677058e-01],\n",
       "       [9.04082253e-02, 5.91776482e-01, 9.36931533e-01, 3.28326631e-01],\n",
       "       [1.05509347e+00, 2.86029801e-01, 9.00106083e-01, 7.15184765e-01],\n",
       "       [8.14549794e-01, 1.39341619e+00, 1.54390703e-01, 1.36026454e+00],\n",
       "       [6.07869059e-01, 4.95352838e-01, 3.74975153e-01, 6.01347158e-01],\n",
       "       [4.34876116e-01, 6.05281194e-01, 5.27524584e-02, 5.18055976e-01],\n",
       "       [1.40405696e+00, 6.57409383e-01, 5.18042030e-01, 1.20108162e+00],\n",
       "       [2.06009314e-01, 1.18598381e+00, 3.43397329e-02, 7.83677058e-01],\n",
       "       [7.74848409e-01, 9.02114765e-02, 8.03439274e-01, 3.54699010e-01],\n",
       "       [1.51965805e+00, 1.37991148e+00, 2.70878810e+00, 1.22005455e+00],\n",
       "       [1.39588315e+00, 1.46283041e+00, 4.53597491e-01, 1.56156737e+00],\n",
       "       [3.09933525e-01, 3.53553362e-01, 7.52804279e-01, 1.76543155e-01],\n",
       "       [1.65394214e+00, 4.48086346e-01, 9.73756984e-01, 1.86513432e+00],\n",
       "       [3.62479475e-01, 1.05093669e+00, 3.43121138e-01, 7.83677058e-01],\n",
       "       [8.24883830e-01, 2.32010953e-01, 3.79946589e-01, 6.31893582e-01],\n",
       "       [1.08311798e+00, 1.29402151e+00, 2.92117889e-01, 4.11617813e-01],\n",
       "       [8.37728396e-01, 2.00139833e-01, 8.95779092e-02, 7.26758255e-01],\n",
       "       [9.18298852e-01, 1.43393033e+00, 2.32276531e-01, 2.90380762e-01],\n",
       "       [7.76016097e-01, 1.33264499e+00, 1.49419267e-01, 1.24642693e+00],\n",
       "       [5.38975481e-01, 3.28434597e-01, 1.61783412e+00, 9.61832913e-01],\n",
       "       [8.26051518e-01, 2.86029801e-01, 6.69947015e-01, 5.93947713e-01],\n",
       "       [4.24366926e-01, 1.17058844e+00, 1.50275459e+00, 1.64969665e-01],\n",
       "       [6.85928986e-01, 1.50982681e-01, 1.97227908e+00, 4.23191303e-01],\n",
       "       [4.34876116e-01, 1.65675807e+00, 9.59579186e-01, 2.97780206e-01],\n",
       "       [1.48792614e-01, 1.24000266e+00, 9.78360166e-01, 2.14489024e-01],\n",
       "       [1.38303858e+00, 1.46958277e+00, 1.12593816e-01, 1.48567563e+00],\n",
       "       [8.25058983e-01, 6.91171163e-01, 1.30942097e+00, 8.10049437e-01],\n",
       "       [1.21273132e+00, 8.93741844e-01, 1.92164409e+00, 1.34129160e+00],\n",
       "       [4.62900623e-01, 6.25538262e-01, 9.04709264e-01, 6.88812386e-01],\n",
       "       [1.89836839e-01, 5.62876398e-01, 1.02862691e+00, 3.35726075e-01],\n",
       "       [5.90353742e-01, 1.33453565e+00, 1.13486833e+00, 2.97780206e-01],\n",
       "       [4.42057396e-01, 1.52873340e-01, 3.93756133e-01, 1.01875172e+00],\n",
       "       [1.66579418e+00, 1.28537849e+00, 9.50372823e-01, 1.94842550e+00],\n",
       "       [1.38283424e-01, 1.24486436e+00, 7.06404211e-01, 3.92644879e-01],\n",
       "       [8.79940308e-01, 1.28051680e+00, 8.85928284e-01, 2.97780206e-01],\n",
       "       [1.74402926e+00, 8.80237132e-01, 3.23815396e+00, 1.64485855e+00],\n",
       "       [1.55486384e+00, 8.88880147e-01, 4.21375221e-01, 8.85941175e-01],\n",
       "       [4.77088029e-01, 4.09462869e-01, 5.82486569e-01, 8.66968240e-01],\n",
       "       [1.06443498e+00, 7.45190011e-01, 1.16248742e+00, 1.05669758e+00],\n",
       "       [1.06755854e-01, 1.56222509e+00, 1.30942097e+00, 2.47596795e-02],\n",
       "       [1.42507534e+00, 8.28108943e-01, 3.93111688e-02, 1.50464857e+00],\n",
       "       [6.61407543e-01, 1.55061104e+00, 3.38517957e-01, 5.93947713e-01],\n",
       "       [1.56403019e+00, 1.54385868e+00, 2.28041604e-01, 1.86513432e+00],\n",
       "       [1.26527727e+00, 2.45515665e-01, 1.15328106e+00, 8.85941175e-01],\n",
       "       [9.19641692e-01, 1.01717491e+00, 1.19434143e+00, 6.20320092e-01],\n",
       "       [1.10530405e+00, 9.95027184e-01, 3.38517957e-01, 1.26539986e+00],\n",
       "       [3.34630122e-01, 5.31005278e-01, 1.29597968e+00, 3.73671944e-01],\n",
       "       [7.30476274e-01, 1.79882765e-01, 9.13915627e-01, 1.09464345e+00],\n",
       "       [8.03865450e-01, 1.58923451e+00, 1.81641536e-01, 1.00651417e-01],\n",
       "       [8.40063771e-01, 7.92456503e-01, 1.01942054e+00, 4.80110107e-01],\n",
       "       [9.15759131e-02, 6.05281194e-01, 2.28041604e-01, 5.56001844e-01],\n",
       "       [8.24883830e-01, 1.51684926e+00, 7.25185191e-01, 1.08724401e+00],\n",
       "       [2.49213762e-01, 9.20751268e-01, 2.23926360e+00, 1.45996731e-01],\n",
       "       [1.49046586e+00, 4.90491142e-01, 3.79946589e-01, 1.61848617e+00],\n",
       "       [6.70544700e-02, 2.38763309e-01, 7.20213755e-01, 7.01049928e-02],\n",
       "       [1.49747198e+00, 1.05606848e-01, 9.13547372e-01, 1.54259444e+00],\n",
       "       [8.98623313e-01, 1.40881156e+00, 6.88359740e-01, 2.78807272e-01],\n",
       "       [2.79573643e-01, 7.65447079e-01, 8.35661544e-01, 1.31861895e-02],\n",
       "       [9.62846140e-01, 6.10142891e-01, 2.00910454e+00, 8.66968240e-01],\n",
       "       [6.98773552e-01, 7.74090095e-01, 2.14232060e-01, 8.59568796e-01],\n",
       "       [1.62591764e+00, 1.05579839e+00, 9.22753735e-01, 1.61848617e+00],\n",
       "       [7.80511695e-01, 1.57086811e+00, 9.82963347e-01, 6.12920648e-01],\n",
       "       [8.55418865e-01, 1.73778635e+00, 1.25915423e+00, 1.81561496e+00],\n",
       "       [1.02105537e+00, 7.60585383e-01, 5.77515133e-01, 1.03032521e+00],\n",
       "       [1.70882347e+00, 1.10306488e+00, 1.00597925e+00, 2.56713290e+00],\n",
       "       [1.37971067e+00, 1.37504978e+00, 5.72911952e-01, 4.87509551e-01],\n",
       "       [1.61891151e+00, 2.65772733e-01, 1.30978922e+00, 1.78924258e+00],\n",
       "       [8.49580427e-01, 6.91171163e-01, 6.69578760e-01, 8.47995306e-01],\n",
       "       [1.28612050e+00, 1.03554132e+00, 1.61323094e+00, 8.21622927e-01],\n",
       "       [1.15300409e+00, 1.60273923e+00, 1.01518562e+00, 6.69839451e-01],\n",
       "       [1.41806922e+00, 1.06255074e+00, 9.78360166e-01, 1.06827108e+00],\n",
       "       [1.47896413e+00, 3.80562786e-01, 1.34164324e+00, 1.07567052e+00],\n",
       "       [1.21489154e+00, 1.77992105e-01, 4.62803854e-01, 1.04929814e+00],\n",
       "       [4.42057396e-01, 1.39341619e+00, 1.32820195e+00, 1.05669758e+00],\n",
       "       [8.59914463e-01, 4.22967582e-01, 8.12645637e-01, 8.02649993e-01],\n",
       "       [5.44813920e-01, 8.19465927e-01, 2.07354907e+00, 7.72103568e-01],\n",
       "       [8.57754241e-01, 6.70914095e-01, 3.38149702e-01, 9.42859978e-01],\n",
       "       [4.95595880e-01, 1.18598381e+00, 1.77038355e-01, 8.97514665e-01],\n",
       "       [5.93681653e-01, 5.71519414e-01, 3.84181516e-01, 5.37028910e-01],\n",
       "       [7.87313476e-02, 1.44257334e+00, 9.92169710e-01, 9.16487599e-01],\n",
       "       [1.08662104e+00, 1.07794612e+00, 1.00597925e+00, 5.82374223e-01],\n",
       "       [1.12281936e+00, 1.73778635e+00, 6.32753309e-01, 1.94842550e+00],\n",
       "       [1.27327593e+00, 1.15033137e+00, 8.58677450e-01, 8.02649993e-01],\n",
       "       [1.19504085e+00, 1.71239749e-01, 4.58200672e-01, 9.54433468e-01],\n",
       "       [1.56070228e+00, 6.32290618e-01, 2.96721070e-01, 1.83942600e-01],\n",
       "       [3.04095087e-01, 1.00367020e+00, 8.35293289e-01, 6.69839451e-01],\n",
       "       [5.90353742e-01, 2.43084817e-03, 7.52804279e-01, 2.78807272e-01],\n",
       "       [2.83251860e-01, 1.10981724e+00, 3.28943340e-01, 1.64969665e-01],\n",
       "       [4.75920341e-01, 1.46120984e-01, 9.69153803e-01, 1.03772465e+00],\n",
       "       [1.66912209e+00, 7.87594807e-01, 1.14407469e+00, 2.26356595e+00],\n",
       "       [6.20538471e-01, 1.36640677e+00, 9.18150553e-01, 3.21591239e-02],\n",
       "       [3.21989902e-02, 1.48308748e+00, 2.87882962e-01, 9.54433468e-01],\n",
       "       [1.58037782e+00, 9.20751268e-01, 6.74181942e-01, 1.48567563e+00],\n",
       "       [1.79152496e-01, 3.28434597e-01, 1.86244718e-01, 4.23191303e-01],\n",
       "       [2.97264113e-01, 3.48691665e-01, 6.72064478e-03, 2.40861403e-01],\n",
       "       [7.16288868e-01, 8.46475352e-01, 8.62912377e-01, 3.47299565e-01],\n",
       "       [4.82926468e-01, 3.48691665e-01, 2.28041604e-01, 9.04914109e-01],\n",
       "       [1.92172214e-01, 9.13998912e-01, 1.06582061e+00, 5.44428354e-01],\n",
       "       [3.48467222e-01, 5.78271770e-01, 1.15788424e+00, 6.12920648e-01],\n",
       "       [1.02123053e+00, 1.34128800e+00, 2.49704176e+00, 3.35726075e-01],\n",
       "       [1.50798117e+00, 9.68017760e-01, 4.12168859e-01, 1.35286509e+00],\n",
       "       [6.97781017e-01, 1.21974559e+00, 5.13438849e-01, 3.92644879e-01],\n",
       "       [7.98202165e-01, 2.26879163e-02, 1.24497643e+00, 3.73671944e-01],\n",
       "       [1.60273904e+00, 8.55118367e-01, 1.11185242e+00, 9.23887044e-01],\n",
       "       [1.13315340e+00, 7.87594807e-01, 5.59470662e-01, 1.27697335e+00],\n",
       "       [2.03849092e-01, 1.59625696e-01, 7.75451931e-01, 4.49563682e-01],\n",
       "       [1.48813048e+00, 2.13644545e-01, 6.23915201e-01, 1.42875683e+00],\n",
       "       [2.49388915e-01, 1.09145083e+00, 8.17248818e-01, 2.97780206e-01],\n",
       "       [8.79940308e-01, 1.34128800e+00, 8.03439274e-01, 2.59834337e-01],\n",
       "       [1.51633014e+00, 1.73103399e+00, 5.17673775e-01, 2.25199246e+00],\n",
       "       [1.18353913e+00, 4.68343414e-01, 4.72010216e-01, 9.61832913e-01],\n",
       "       [2.70407294e-01, 1.04418434e+00, 2.13863806e-01, 2.97780206e-01],\n",
       "       [1.51399477e+00, 1.41556392e+00, 3.15502050e-01, 3.16753141e-01],\n",
       "       [2.16693657e-01, 8.95632503e-01, 5.96296113e-01, 4.68536617e-01],\n",
       "       [1.11601758e-01, 1.39530685e+00, 1.02439198e+00, 7.01049928e-02],\n",
       "       [8.34400486e-01, 1.20624088e+00, 1.45184340e-01, 3.92644879e-01],\n",
       "       [1.06075676e+00, 1.18598381e+00, 3.93111688e-02, 1.22005455e+00],\n",
       "       [1.64127273e+00, 1.33264499e+00, 1.89862818e+00, 2.10020898e+00],\n",
       "       [1.24659427e+00, 1.32616272e-01, 2.55016247e-02, 4.68536617e-01],\n",
       "       [6.76762637e-01, 1.47444446e+00, 5.04232486e-01, 1.41718334e+00],\n",
       "       [8.80728498e-02, 1.42906863e+00, 1.82009791e-01, 9.16487599e-01],\n",
       "       [5.14454038e-01, 3.67058074e-01, 5.68677025e-01, 4.11617813e-01],\n",
       "       [1.62258973e+00, 6.32290618e-01, 1.23613832e+00, 1.09464345e+00],\n",
       "       [1.49863967e+00, 7.53833027e-01, 3.29311594e-01, 1.59951324e+00],\n",
       "       [1.25576062e+00, 1.20435022e+00, 1.13947151e+00, 8.21622927e-01],\n",
       "       [8.35393020e-01, 8.41613655e-01, 1.13026515e+00, 6.12920648e-01],\n",
       "       [1.51615499e+00, 1.29402151e+00, 4.81492770e-02, 1.75129672e+00],\n",
       "       [2.30705910e-01, 1.26512143e+00, 1.24074150e+00, 8.47995306e-01],\n",
       "       [3.10313024e-02, 8.32970639e-01, 1.13026515e+00, 4.11617813e-01],\n",
       "       [1.27094056e+00, 1.32103093e+00, 7.71217005e-01, 1.42875683e+00],\n",
       "       [6.17035408e-01, 1.24000266e+00, 1.03359834e+00, 2.14489024e-01],\n",
       "       [3.49810063e-01, 9.42898996e-01, 1.11185242e+00, 6.27055484e-02],\n",
       "       [1.59456522e+00, 1.26512143e+00, 1.64085003e+00, 1.96739844e+00],\n",
       "       [9.93206022e-01, 9.90165488e-01, 1.00597925e+00, 6.20320092e-01]])"
      ]
     },
     "execution_count": 15,
     "metadata": {},
     "output_type": "execute_result"
    }
   ],
   "source": [
    "# Removing Outliers\n",
    "\n",
    "from scipy.stats import zscore\n",
    "z = np.abs(zscore(sales))\n",
    "z"
   ]
  },
  {
   "cell_type": "code",
   "execution_count": 16,
   "metadata": {},
   "outputs": [
    {
     "name": "stdout",
     "output_type": "stream",
     "text": [
      "(array([ 16, 101], dtype=int64), array([2, 2], dtype=int64))\n"
     ]
    }
   ],
   "source": [
    "threshold = 3\n",
    "print(np.where(z>3))"
   ]
  },
  {
   "cell_type": "code",
   "execution_count": 17,
   "metadata": {},
   "outputs": [
    {
     "data": {
      "text/plain": [
       "3.8411707150992718"
      ]
     },
     "execution_count": 17,
     "metadata": {},
     "output_type": "execute_result"
    }
   ],
   "source": [
    "z[16][2]"
   ]
  },
  {
   "cell_type": "code",
   "execution_count": 18,
   "metadata": {},
   "outputs": [
    {
     "data": {
      "text/plain": [
       "3.238153957342154"
      ]
     },
     "execution_count": 18,
     "metadata": {},
     "output_type": "execute_result"
    }
   ],
   "source": [
    "z[101][2]"
   ]
  },
  {
   "cell_type": "code",
   "execution_count": 26,
   "metadata": {},
   "outputs": [
    {
     "name": "stdout",
     "output_type": "stream",
     "text": [
      "(200, 4)\n",
      "(198, 4)\n"
     ]
    }
   ],
   "source": [
    "sales_new = sales[(z<3).all(axis = 1)]\n",
    "print(sales.shape)\n",
    "print(sales_new.shape)"
   ]
  },
  {
   "cell_type": "markdown",
   "metadata": {},
   "source": [
    "# Divide data in Features and Vector:"
   ]
  },
  {
   "cell_type": "code",
   "execution_count": 27,
   "metadata": {},
   "outputs": [],
   "source": [
    "x = sales_new.drop(['Sales'], axis = 1)\n",
    "y = sales_new['Sales']"
   ]
  },
  {
   "cell_type": "markdown",
   "metadata": {},
   "source": [
    "# Remove Skewness"
   ]
  },
  {
   "cell_type": "code",
   "execution_count": 28,
   "metadata": {},
   "outputs": [
    {
     "data": {
      "text/plain": [
       "array([[ 0.95598306,  0.9691098 ,  1.6041965 ],\n",
       "       [-1.19200349,  1.04623436,  0.83104401],\n",
       "       [-1.6461253 ,  1.37296802,  1.60705249],\n",
       "       [ 0.14293428,  1.1473316 ,  1.28376774],\n",
       "       [ 0.45645241, -0.73502642,  1.28062154],\n",
       "       [-1.8204008 ,  1.51543955,  1.76610727],\n",
       "       [-1.00349358,  0.70309642, -0.10205346],\n",
       "       [-0.20996049, -0.0876566 , -0.84968895],\n",
       "       [-1.82264543, -1.62948287, -2.09866461],\n",
       "       [ 0.652694  , -1.56152179, -0.22649933],\n",
       "       [-0.88482761, -1.19258569, -0.06553382],\n",
       "       [ 0.80322028,  0.19357553, -1.59608414],\n",
       "       [-1.52567125,  0.82725998,  1.50859232],\n",
       "       [-0.48090308, -1.01613619, -1.23269654],\n",
       "       [ 0.69642374,  0.70856268,  0.86367455],\n",
       "       [ 0.60769456,  1.45886692,  1.1026083 ],\n",
       "       [ 1.44702338,  1.06152278,  1.19771741],\n",
       "       [-0.84304109, -0.02834315, -0.39458775],\n",
       "       [ 0.09676151,  0.18741189, -0.346834  ],\n",
       "       [ 0.84017479,  0.41523303,  1.11921444],\n",
       "       [ 1.02746612, -1.2660875 , -0.10205346],\n",
       "       [-1.72466475, -0.3430802 ,  0.99069777],\n",
       "       [ 0.93826742, -0.27204438,  0.0356758 ],\n",
       "       [-0.93674187, -0.59023588, -0.39458775],\n",
       "       [ 1.27285397, -1.44792482, -0.32336998],\n",
       "       [ 0.04802388,  0.50756488, -0.7740548 ],\n",
       "       [ 1.05376032, -0.28612399, -0.13384051],\n",
       "       [ 1.13797152,  0.38008881, -0.13384051],\n",
       "       [-0.82432769, -0.33590351,  0.66980347],\n",
       "       [ 1.55379249,  0.45008922,  0.76092313],\n",
       "       [-0.29552539, -0.23711359,  0.58357284],\n",
       "       [-0.48458608, -1.71704857,  0.21669702],\n",
       "       [ 1.29846636, -0.06117169, -2.2758464 ],\n",
       "       [-0.50304519, -1.7324148 , -1.21299201],\n",
       "       [ 1.53345233, -1.3771472 , -1.10919482],\n",
       "       [ 1.31077419,  1.27109462, -1.4708598 ],\n",
       "       [-0.77006157,  1.53885314,  0.85283827],\n",
       "       [-1.21308859,  0.35649509,  0.44045973],\n",
       "       [ 0.93531131,  0.96392681,  0.30682057],\n",
       "       [ 0.68018031,  0.08742886,  0.28905461],\n",
       "       [ 0.4165774 ,  0.73579933,  0.58755182],\n",
       "       [ 1.56025605,  0.41523303, -1.93614969],\n",
       "       [ 0.72477076, -0.94246393,  0.04555612],\n",
       "       [-1.50299171,  0.29691633,  0.76465678],\n",
       "       [ 0.39655706,  0.10007132,  0.2845934 ],\n",
       "       [-0.5776425 , -0.81067203,  0.46554742],\n",
       "       [ 1.05181524,  1.15733673, -0.38254334],\n",
       "       [ 0.92742341, -0.35027362,  1.00104316],\n",
       "       [-0.87399682, -0.66162053,  0.51093113],\n",
       "       [ 0.652694  , -1.49718987,  0.41936802],\n",
       "       [-0.44544938, -0.83642883, -1.65023317],\n",
       "       [ 0.82021967,  1.16732335,  0.62310406],\n",
       "       [ 0.47526481,  1.38737344,  1.29005095],\n",
       "       [ 1.27095405,  0.47892195, -0.54515187],\n",
       "       [ 0.6435106 ,  1.53885314,  1.33059751],\n",
       "       [-1.85241088,  0.43850198,  0.6928619 ],\n",
       "       [-0.02694246, -0.11434473, -0.50002298],\n",
       "       [ 0.7640894 ,  1.54819296,  0.54749686],\n",
       "       [ 0.76308359,  0.51896989, -1.03801781],\n",
       "       [-1.06021399, -1.64357954, -0.21538949],\n",
       "       [ 1.25764412,  1.21698291,  1.16198054],\n",
       "       [ 1.04597746, -0.37195568,  0.08950799],\n",
       "       [-0.41751811,  0.52466135, -1.11833294],\n",
       "       [-0.08464536,  1.22192414,  0.16568658],\n",
       "       [-0.84572231, -0.8624742 , -2.12148202],\n",
       "       [-1.39528628,  0.23035564, -1.86501   ],\n",
       "       [ 0.00785902, -0.44537697, -0.96167639],\n",
       "       [ 1.02746612,  0.40355071, -0.89675177],\n",
       "       [ 0.8242145 ,  1.27598779,  0.08466485],\n",
       "       [ 0.64555228,  0.58117899,  0.58755182],\n",
       "       [-0.33228945, -0.46028254,  0.29350789],\n",
       "       [-1.47377148,  0.71402259, -0.33506848],\n",
       "       [-0.10400761, -1.202897  ,  0.27564704],\n",
       "       [ 0.79019725,  0.23035564, -0.73744518],\n",
       "       [-1.65184774,  1.26619715,  2.13937255],\n",
       "       [-1.46187563, -1.70192244, -0.25453031],\n",
       "       [-0.20647326,  0.46164538, -0.65947105],\n",
       "       [-1.89822804,  0.54169198, -1.02934918],\n",
       "       [-0.25902053, -1.00678392, -0.12319395],\n",
       "       [-0.74778651,  0.35649509, -0.16609367],\n",
       "       [ 1.05084254, -1.3771472 ,  0.51501874],\n",
       "       [-0.76218508, -0.04143812,  0.32885333],\n",
       "       [-0.85377796,  1.30525722,  0.46138274],\n",
       "       [ 0.79119975,  1.23179329,  0.38526098],\n",
       "       [ 0.58509675, -0.16835339,  1.50271112],\n",
       "       [-0.74909326,  0.40355071, -0.53863938],\n",
       "       [-0.32158879,  1.11216604,  1.42831665],\n",
       "       [-0.59523084,  0.28489586,  1.72217946],\n",
       "       [-0.33228945,  1.4636021 ,  1.05224719],\n",
       "       [-0.04837336, -1.28768913, -1.03801781],\n",
       "       [-1.44333425, -1.71704857,  0.35069626],\n",
       "       [ 0.8331959 ,  0.74122791,  1.29945293],\n",
       "       [ 1.15818339,  0.90131402,  1.69166052],\n",
       "       [-0.36093577, -0.4827855 , -0.90472726],\n",
       "       [ 0.2709304 ,  0.63699688,  1.1026083 ],\n",
       "       [ 0.63022667, -1.44792482, -1.36815587],\n",
       "       [ 0.49923329,  0.00418624, -0.18240095],\n",
       "       [ 1.52419364,  1.19717332,  1.04546953],\n",
       "       [-0.0382122 ,  1.16732335,  0.86006693],\n",
       "       [ 0.87994389, -1.35429375,  0.99759864],\n",
       "       [ 1.43581778, -0.79365568, -0.21538949],\n",
       "       [ 0.53038105, -0.25104051, -0.41889554],\n",
       "       [ 1.03526502,  0.78443582, -1.43568966],\n",
       "       [-0.00783277,  1.39695704,  1.29945293],\n",
       "       [-1.50472569, -0.71852874,  0.20289058],\n",
       "       [-0.56887482, -1.92277996, -0.11788987],\n",
       "       [-1.72669682, -1.90334954,  0.00577961],\n",
       "       [ 1.20134779,  0.36830859, -1.41277956],\n",
       "       [ 0.91360226, -0.96064272,  1.22025052],\n",
       "       [ 1.06930594,  0.97946003, -0.11788987],\n",
       "       [ 0.40288531, -0.37921745, -1.83137048],\n",
       "       [ 0.75201155, -0.02181365, -0.9207956 ],\n",
       "       [-0.72433929,  1.41607663,  0.41512911],\n",
       "       [-0.76480878,  0.82192754,  1.09594084],\n",
       "       [ 0.00673953, -0.46028254,  0.00577961],\n",
       "       [-0.74778651, -1.83055994, -0.61831443],\n",
       "       [-0.14637764,  0.92227141,  1.87892616],\n",
       "       [-1.60487761, -0.33590351, -0.16609367],\n",
       "       [ 0.03020546,  0.36240602,  0.87087647],\n",
       "       [-1.61600701,  0.04924266,  1.01820721],\n",
       "       [ 0.89579959, -1.58822992, -0.56482448],\n",
       "       [-0.17634363,  0.8005392 , -0.78891695],\n",
       "       [ 0.95008184,  0.67566908,  1.7442111 ],\n",
       "       [-0.60910057, -0.65359273,  0.02077604],\n",
       "       [-1.84082856,  1.02577993,  1.02504572],\n",
       "       [-0.69844865, -1.98495808, -1.04673537],\n",
       "       [ 0.8590884 ,  1.52012963, -1.70718676],\n",
       "       [-0.97412104, -0.63761079,  0.75718457],\n",
       "       [-2.03323356,  1.06152278, -1.09108448],\n",
       "       [ 1.2946762 , -1.52253007,  0.7534411 ],\n",
       "       [-1.82715302,  0.38596655, -1.88228781],\n",
       "       [ 0.85411524,  0.74122791,  0.83104401],\n",
       "       [-1.30867028,  1.0103861 ,  1.49976669],\n",
       "       [-1.13560137,  1.42561279, -1.10919482],\n",
       "       [-1.49434751,  1.03090107, -1.03801781],\n",
       "       [ 1.37490294,  0.48466558,  1.32128542],\n",
       "       [-1.21460127,  0.30890141, -0.2658475 ],\n",
       "       [ 0.49923329,  1.27598779, -1.95484304],\n",
       "       [-0.78718324, -0.2650278 , -0.75199725],\n",
       "       [ 0.59023843,  0.84322253,  1.78244184],\n",
       "       [ 0.86107685,  0.72492349,  0.55555544],\n",
       "       [-0.39456576, -1.202897  ,  0.41088327],\n",
       "       [-0.49688394, -0.42315979,  0.59549238],\n",
       "       [ 0.01904252, -1.65786243, -1.06432036],\n",
       "       [ 1.05376032, -1.04445327, -1.09108448],\n",
       "       [ 1.08385578,  1.52012963,  0.80172759],\n",
       "       [-1.29143203,  1.09702388, -0.82664429],\n",
       "       [-1.1890052 ,  0.30291327, -0.26018131],\n",
       "       [ 1.44048829, -0.49032576,  0.51910011],\n",
       "       [-0.20066619, -0.94246393,  0.95944652],\n",
       "       [ 0.63022667,  0.15022331, -0.65947105],\n",
       "       [ 0.35634693,  1.06660903,  0.54749686],\n",
       "       [ 0.52934487,  0.01065705, -1.02072873],\n",
       "       [-1.93163495, -0.66967326, -1.39027462],\n",
       "       [-0.52529469,  1.25638925,  1.02162839],\n",
       "       [ 0.12428563, -1.74803521, -0.06036496],\n",
       "       [-1.75555556,  0.92227141,  0.83468776],\n",
       "       [-0.07782712, -0.16835339,  0.41936802],\n",
       "       [ 0.36906953, -0.18883181,  0.24861364],\n",
       "       [-0.62808655,  0.86442562,  0.98031676],\n",
       "       [ 0.5355598 , -0.18883181,  0.00577961],\n",
       "       [ 0.2730788 ,  0.91704026, -1.21299201],\n",
       "       [-0.24495734, -0.43054692, -1.42418272],\n",
       "       [ 0.99913782, -1.46007371,  2.02414625],\n",
       "       [-1.63286723,  0.95873855, -0.20433701],\n",
       "       [ 0.72376009, -1.25539136, -0.32921092],\n",
       "       [ 0.81022423,  0.16886223,  1.25534066],\n",
       "       [ 1.47405264, -0.75163452, -1.31443661],\n",
       "       [-1.11073781, -0.66967326, -0.38855655],\n",
       "       [ 0.28381064, -0.00229617,  0.91372099],\n",
       "       [-1.60118681, -0.05458158, -0.47470116],\n",
       "       [ 0.32550506, -1.06355551, -0.75931882],\n",
       "       [ 0.87994389, -1.46007371, -0.73744518],\n",
       "       [ 1.40493806,  1.51543955,  0.70812926],\n",
       "       [ 1.13411664,  0.55865764, -0.27722588],\n",
       "       [ 0.34466429, -0.99747386,  0.44465771],\n",
       "       [ 1.40306351, -1.60181548, -0.09155822],\n",
       "       [ 0.29559622, -0.80214864, -0.43732278],\n",
       "       [ 0.19855946, -1.56152179, -1.12752759],\n",
       "       [ 0.8411713 , -1.23420066,  0.09434122],\n",
       "       [-1.02181379, -1.202897  ,  0.20289058],\n",
       "       [ 1.50472337,  1.23179329,  1.67770049],\n",
       "       [ 1.18602318,  0.02356422,  0.21669702],\n",
       "       [ 0.70554619,  1.33437513, -0.31754553],\n",
       "       [ 0.01009737, -1.62948287,  0.05539471],\n",
       "       [ 0.56346396,  0.47317073, -0.40063711],\n",
       "       [ 1.48986416, -0.49032576, -1.63644784],\n",
       "       [-1.61787038, -0.62965614, -0.1073197 ],\n",
       "       [-1.26812741,  1.13730782, -1.3791681 ],\n",
       "       [-0.75956316, -0.73502642, -1.3572358 ],\n",
       "       [-1.6461253 , -1.3771472 ,  0.28905461],\n",
       "       [ 0.30843016,  1.18226883, -1.65023317],\n",
       "       [ 0.12318696,  0.85383548, -1.3572358 ],\n",
       "       [-1.28831146, -1.42394128, -0.68743455],\n",
       "       [-0.52157887, -1.28768913, -1.14609038],\n",
       "       [ 0.4165774 , -0.8624742 , -1.31443661],\n",
       "       [ 1.4675349 ,  1.18226883,  1.51739504],\n",
       "       [ 0.97562509, -0.92443675, -1.09108448]])"
      ]
     },
     "execution_count": 28,
     "metadata": {},
     "output_type": "execute_result"
    }
   ],
   "source": [
    "from sklearn.preprocessing import power_transform\n",
    "x = power_transform(x , method = 'yeo-johnson')\n",
    "x"
   ]
  },
  {
   "cell_type": "markdown",
   "metadata": {},
   "source": [
    "# Model"
   ]
  },
  {
   "cell_type": "code",
   "execution_count": 34,
   "metadata": {},
   "outputs": [],
   "source": [
    "from sklearn.model_selection import train_test_split\n",
    "from sklearn.linear_model import LinearRegression\n",
    "lr = LinearRegression()\n",
    "from sklearn.metrics import r2_score, mean_squared_error, mean_absolute_error"
   ]
  },
  {
   "cell_type": "code",
   "execution_count": 35,
   "metadata": {},
   "outputs": [
    {
     "name": "stdout",
     "output_type": "stream",
     "text": [
      "At random state 155  The model performs very well\n",
      "At random_state:- 155\n",
      "Training r2_score is:- 91.14563449384231\n",
      "Testing r2_score is:- 91.1466949173533\n",
      "At random state 719  The model performs very well\n",
      "At random_state:- 719\n",
      "Training r2_score is:- 91.19917596333585\n",
      "Testing r2_score is:- 91.20380207065172\n",
      "At random state 866  The model performs very well\n",
      "At random_state:- 866\n",
      "Training r2_score is:- 91.2065134966197\n",
      "Testing r2_score is:- 91.21060925250384\n",
      "At random state 946  The model performs very well\n",
      "At random_state:- 946\n",
      "Training r2_score is:- 91.14313528831619\n",
      "Testing r2_score is:- 91.14470804549364\n"
     ]
    }
   ],
   "source": [
    "max_scr=0\n",
    "for i in range(0,1000):\n",
    "    x_train,x_test,y_train,y_test=train_test_split(x,y,random_state=i,test_size=0.20)\n",
    "    lr.fit(x_train,y_train)\n",
    "    pred_train=lr.predict(x_train)\n",
    "    pred_test=lr.predict(x_test)\n",
    "    if round(r2_score(y_train,pred_train)*100,2)==round(r2_score(y_test,pred_test)*100,2):\n",
    "        print(\"At random state\",i,\" The model performs very well\")\n",
    "        print(\"At random_state:-\",i)\n",
    "        print(\"Training r2_score is:-\", r2_score(y_train,pred_train)*100)\n",
    "        print(\"Testing r2_score is:-\", r2_score(y_test,pred_test)*100)"
   ]
  },
  {
   "cell_type": "code",
   "execution_count": 37,
   "metadata": {},
   "outputs": [],
   "source": [
    "x_train_b,x_test_b,y_train_b,y_test_b=train_test_split(x,y,random_state=155,test_size=0.20)"
   ]
  },
  {
   "cell_type": "code",
   "execution_count": 40,
   "metadata": {},
   "outputs": [
    {
     "data": {
      "text/plain": [
       "LinearRegression()"
      ]
     },
     "execution_count": 40,
     "metadata": {},
     "output_type": "execute_result"
    }
   ],
   "source": [
    "lr.fit(x_train, y_train)"
   ]
  },
  {
   "cell_type": "code",
   "execution_count": 41,
   "metadata": {},
   "outputs": [
    {
     "data": {
      "text/plain": [
       "0.908452003582488"
      ]
     },
     "execution_count": 41,
     "metadata": {},
     "output_type": "execute_result"
    }
   ],
   "source": [
    "lr.score(x_train, y_train)"
   ]
  },
  {
   "cell_type": "code",
   "execution_count": 43,
   "metadata": {},
   "outputs": [
    {
     "name": "stdout",
     "output_type": "stream",
     "text": [
      "Predicted result price:  [21.80163655 12.85414715 13.41586557 20.01462608 16.48645752 13.89385287\n",
      " 24.35461222 20.70871565  6.91984808 15.53983377 14.75246539  7.17748008\n",
      "  8.54824148  5.62824456  8.93798079 15.62123478 16.73888754 19.27960222\n",
      " 22.51223913  8.42053873 16.58273308 10.80572104 20.86528992 19.12084946\n",
      " 18.31862552 17.7274012  21.39059354 11.16044299  9.52200083 21.31514599\n",
      " 17.33873066  3.95840835 12.54722223 21.04104162 13.23285474 15.83307472\n",
      " 19.44305215 20.36908002 21.698933   11.06046504]\n",
      "actual price  54     20.2\n",
      "71     12.4\n",
      "31     11.9\n",
      "35     17.8\n",
      "167    17.2\n",
      "7      13.2\n",
      "183    26.2\n",
      "169    20.0\n",
      "132     5.7\n",
      "87     16.0\n",
      "57     13.2\n",
      "56      5.5\n",
      "127    11.9\n",
      "91      7.3\n",
      "166     8.0\n",
      "96     16.7\n",
      "122    16.6\n",
      "139    20.7\n",
      "137    20.8\n",
      "158     7.3\n",
      "160    16.4\n",
      "190    10.8\n",
      "124    19.7\n",
      "74     17.0\n",
      "41     17.1\n",
      "163    18.0\n",
      "128    24.7\n",
      "46     10.6\n",
      "65     11.3\n",
      "176    20.2\n",
      "162    19.9\n",
      "108     5.3\n",
      "94     11.5\n",
      "69     22.3\n",
      "83     13.6\n",
      "19     14.6\n",
      "141    19.2\n",
      "92     19.4\n",
      "111    21.8\n",
      "18     11.3\n",
      "Name: Sales, dtype: float64\n"
     ]
    }
   ],
   "source": [
    "# predict the value\n",
    "\n",
    "pred = lr.predict(x_test)\n",
    "print(\"Predicted result price: \", pred)\n",
    "print(\"actual price \", y_test)"
   ]
  },
  {
   "cell_type": "code",
   "execution_count": 45,
   "metadata": {},
   "outputs": [
    {
     "name": "stdout",
     "output_type": "stream",
     "text": [
      "error:\n",
      "Mean absolute error:  1.179521630384857\n",
      "Mean squared error:  2.024383088521631\n",
      "Root Mean Squared Error:  1.422808169965871\n",
      "0.9284080696838317\n"
     ]
    }
   ],
   "source": [
    "print('error:')\n",
    "\n",
    "print('Mean absolute error: ', mean_absolute_error(y_test, pred))\n",
    "print('Mean squared error: ', mean_squared_error(y_test, pred))\n",
    "\n",
    "print('Root Mean Squared Error: ', np.sqrt(mean_squared_error(y_test, pred)))\n",
    "\n",
    "print(r2_score(y_test, pred))"
   ]
  },
  {
   "cell_type": "markdown",
   "metadata": {},
   "source": [
    "# Regularization"
   ]
  },
  {
   "cell_type": "markdown",
   "metadata": {},
   "source": [
    "# Lasso"
   ]
  },
  {
   "cell_type": "code",
   "execution_count": 50,
   "metadata": {},
   "outputs": [
    {
     "name": "stdout",
     "output_type": "stream",
     "text": [
      "{'alpha': 0.01, 'random_state': 0}\n"
     ]
    }
   ],
   "source": [
    "from sklearn.linear_model import Lasso\n",
    "\n",
    "parameters = {'alpha':[.0001, .001, .01, .1, 1, 10],'random_state':list(range(0,10))}\n",
    "ls = Lasso()\n",
    "clf = GridSearchCV(ls,parameters)\n",
    "clf.fit(x_train,y_train)\n",
    "\n",
    "print(clf.best_params_)"
   ]
  },
  {
   "cell_type": "code",
   "execution_count": 52,
   "metadata": {},
   "outputs": [
    {
     "name": "stdout",
     "output_type": "stream",
     "text": [
      "At cv:- 2\n",
      "Cross validation score is:- 90.68389309250755\n",
      "R2_score is :- 90.90195599214832\n",
      "\n",
      "\n",
      "At cv:- 3\n",
      "Cross validation score is:- 90.54910826322204\n",
      "R2_score is :- 90.90195599214832\n",
      "\n",
      "\n",
      "At cv:- 4\n",
      "Cross validation score is:- 90.74757370441925\n",
      "R2_score is :- 90.90195599214832\n",
      "\n",
      "\n",
      "At cv:- 5\n",
      "Cross validation score is:- 90.62619624416625\n",
      "R2_score is :- 90.90195599214832\n",
      "\n",
      "\n",
      "At cv:- 6\n",
      "Cross validation score is:- 90.39485101479818\n",
      "R2_score is :- 90.90195599214832\n",
      "\n",
      "\n",
      "At cv:- 7\n",
      "Cross validation score is:- 90.25152587430652\n",
      "R2_score is :- 90.90195599214832\n",
      "\n",
      "\n",
      "At cv:- 8\n",
      "Cross validation score is:- 90.76968007034766\n",
      "R2_score is :- 90.90195599214832\n",
      "\n",
      "\n",
      "At cv:- 9\n",
      "Cross validation score is:- 90.21419756077711\n",
      "R2_score is :- 90.90195599214832\n",
      "\n",
      "\n"
     ]
    }
   ],
   "source": [
    "ls = Lasso(alpha=0.1,random_state=0)\n",
    "ls.fit(x_train_b,y_train_b)\n",
    "ls.score(x_train_b,y_train_b)\n",
    "pred_ls = ls.predict(x_test_b)\n",
    "\n",
    "lss = r2_score(y_test_b,pred_ls)\n",
    "for j in range(2,10):\n",
    "    lsscore = cross_val_score(ls,x,y,cv=j)\n",
    "    lsc = lsscore.mean() \n",
    "    print(\"At cv:-\",j)\n",
    "    print(\"Cross validation score is:-\",lsc*100 )\n",
    "    print(\"R2_score is :-\",lss*100)\n",
    "    print(\"\\n\")"
   ]
  },
  {
   "cell_type": "code",
   "execution_count": 53,
   "metadata": {},
   "outputs": [
    {
     "name": "stdout",
     "output_type": "stream",
     "text": [
      "At cv:- 8\n",
      "Cross validation score is:- 90.76968007034766\n",
      "R2_score is :- 90.90195599214832\n"
     ]
    }
   ],
   "source": [
    "print(\"At cv:-\",8)\n",
    "print(\"Cross validation score is:-\", 90.76968007034766 )\n",
    "print(\"R2_score is :-\", 90.90195599214832)"
   ]
  },
  {
   "cell_type": "code",
   "execution_count": 54,
   "metadata": {},
   "outputs": [
    {
     "name": "stdout",
     "output_type": "stream",
     "text": [
      "Error:\n",
      "Mean Absolute Error: 1.3962144789629276\n",
      "Mean Squared Error: 3.0120752139856926\n",
      "Root Mean Square Error: 1.7355331209705254\n"
     ]
    }
   ],
   "source": [
    "print('Error:')\n",
    "\n",
    "print('Mean Absolute Error:',mean_absolute_error(y_test_b,pred_ls))\n",
    "print('Mean Squared Error:',mean_squared_error(y_test_b,pred_ls))\n",
    "print('Root Mean Square Error:',np.sqrt(mean_squared_error(y_test_b,pred_ls)))"
   ]
  },
  {
   "cell_type": "code",
   "execution_count": 55,
   "metadata": {},
   "outputs": [
    {
     "data": {
      "image/png": "[encoded data removed]",
      "text/plain": [
       "<Figure size 576x432 with 1 Axes>"
      ]
     },
     "metadata": {
      "needs_background": "light"
     },
     "output_type": "display_data"
    }
   ],
   "source": [
    "plt.figure(figsize=(8,6))\n",
    "plt.scatter(x=y_test_b, y=pred_ls, color='r')\n",
    "plt.plot(y_test_b,y_test_b, color='b')\n",
    "plt.xlabel('Actual Sales',fontsize=14)\n",
    "plt.ylabel('Predicted Sales',fontsize=14)\n",
    "plt.title('Lasso Regression',fontsize=18)\n",
    "plt.show()"
   ]
  },
  {
   "cell_type": "markdown",
   "metadata": {},
   "source": [
    "# Model Saving:"
   ]
  },
  {
   "cell_type": "code",
   "execution_count": 56,
   "metadata": {},
   "outputs": [],
   "source": [
    "import pickle\n",
    "filename = 'Advertising_Sales_Prediction.pkl'\n",
    "pickle.dump(ls, open(filename, 'wb'))"
   ]
  },
  {
   "cell_type": "code",
   "execution_count": 57,
   "metadata": {},
   "outputs": [
    {
     "data": {
      "text/html": [
       "<div>\n",
       "<style scoped>\n",
       "    .dataframe tbody tr th:only-of-type {\n",
       "        vertical-align: middle;\n",
       "    }\n",
       "\n",
       "    .dataframe tbody tr th {\n",
       "        vertical-align: top;\n",
       "    }\n",
       "\n",
       "    .dataframe thead th {\n",
       "        text-align: right;\n",
       "    }\n",
       "</style>\n",
       "<table border=\"1\" class=\"dataframe\">\n",
       "  <thead>\n",
       "    <tr style=\"text-align: right;\">\n",
       "      <th></th>\n",
       "      <th>original</th>\n",
       "      <th>predicted</th>\n",
       "    </tr>\n",
       "  </thead>\n",
       "  <tbody>\n",
       "    <tr>\n",
       "      <th>0</th>\n",
       "      <td>20.2</td>\n",
       "      <td>21.801637</td>\n",
       "    </tr>\n",
       "    <tr>\n",
       "      <th>1</th>\n",
       "      <td>12.4</td>\n",
       "      <td>12.854147</td>\n",
       "    </tr>\n",
       "    <tr>\n",
       "      <th>2</th>\n",
       "      <td>11.9</td>\n",
       "      <td>13.415866</td>\n",
       "    </tr>\n",
       "    <tr>\n",
       "      <th>3</th>\n",
       "      <td>17.8</td>\n",
       "      <td>20.014626</td>\n",
       "    </tr>\n",
       "    <tr>\n",
       "      <th>4</th>\n",
       "      <td>17.2</td>\n",
       "      <td>16.486458</td>\n",
       "    </tr>\n",
       "    <tr>\n",
       "      <th>5</th>\n",
       "      <td>13.2</td>\n",
       "      <td>13.893853</td>\n",
       "    </tr>\n",
       "    <tr>\n",
       "      <th>6</th>\n",
       "      <td>26.2</td>\n",
       "      <td>24.354612</td>\n",
       "    </tr>\n",
       "    <tr>\n",
       "      <th>7</th>\n",
       "      <td>20.0</td>\n",
       "      <td>20.708716</td>\n",
       "    </tr>\n",
       "    <tr>\n",
       "      <th>8</th>\n",
       "      <td>5.7</td>\n",
       "      <td>6.919848</td>\n",
       "    </tr>\n",
       "    <tr>\n",
       "      <th>9</th>\n",
       "      <td>16.0</td>\n",
       "      <td>15.539834</td>\n",
       "    </tr>\n",
       "    <tr>\n",
       "      <th>10</th>\n",
       "      <td>13.2</td>\n",
       "      <td>14.752465</td>\n",
       "    </tr>\n",
       "    <tr>\n",
       "      <th>11</th>\n",
       "      <td>5.5</td>\n",
       "      <td>7.177480</td>\n",
       "    </tr>\n",
       "    <tr>\n",
       "      <th>12</th>\n",
       "      <td>11.9</td>\n",
       "      <td>8.548241</td>\n",
       "    </tr>\n",
       "    <tr>\n",
       "      <th>13</th>\n",
       "      <td>7.3</td>\n",
       "      <td>5.628245</td>\n",
       "    </tr>\n",
       "    <tr>\n",
       "      <th>14</th>\n",
       "      <td>8.0</td>\n",
       "      <td>8.937981</td>\n",
       "    </tr>\n",
       "    <tr>\n",
       "      <th>15</th>\n",
       "      <td>16.7</td>\n",
       "      <td>15.621235</td>\n",
       "    </tr>\n",
       "    <tr>\n",
       "      <th>16</th>\n",
       "      <td>16.6</td>\n",
       "      <td>16.738888</td>\n",
       "    </tr>\n",
       "    <tr>\n",
       "      <th>17</th>\n",
       "      <td>20.7</td>\n",
       "      <td>19.279602</td>\n",
       "    </tr>\n",
       "    <tr>\n",
       "      <th>18</th>\n",
       "      <td>20.8</td>\n",
       "      <td>22.512239</td>\n",
       "    </tr>\n",
       "    <tr>\n",
       "      <th>19</th>\n",
       "      <td>7.3</td>\n",
       "      <td>8.420539</td>\n",
       "    </tr>\n",
       "    <tr>\n",
       "      <th>20</th>\n",
       "      <td>16.4</td>\n",
       "      <td>16.582733</td>\n",
       "    </tr>\n",
       "    <tr>\n",
       "      <th>21</th>\n",
       "      <td>10.8</td>\n",
       "      <td>10.805721</td>\n",
       "    </tr>\n",
       "    <tr>\n",
       "      <th>22</th>\n",
       "      <td>19.7</td>\n",
       "      <td>20.865290</td>\n",
       "    </tr>\n",
       "    <tr>\n",
       "      <th>23</th>\n",
       "      <td>17.0</td>\n",
       "      <td>19.120849</td>\n",
       "    </tr>\n",
       "    <tr>\n",
       "      <th>24</th>\n",
       "      <td>17.1</td>\n",
       "      <td>18.318626</td>\n",
       "    </tr>\n",
       "    <tr>\n",
       "      <th>25</th>\n",
       "      <td>18.0</td>\n",
       "      <td>17.727401</td>\n",
       "    </tr>\n",
       "    <tr>\n",
       "      <th>26</th>\n",
       "      <td>24.7</td>\n",
       "      <td>21.390594</td>\n",
       "    </tr>\n",
       "    <tr>\n",
       "      <th>27</th>\n",
       "      <td>10.6</td>\n",
       "      <td>11.160443</td>\n",
       "    </tr>\n",
       "    <tr>\n",
       "      <th>28</th>\n",
       "      <td>11.3</td>\n",
       "      <td>9.522001</td>\n",
       "    </tr>\n",
       "    <tr>\n",
       "      <th>29</th>\n",
       "      <td>20.2</td>\n",
       "      <td>21.315146</td>\n",
       "    </tr>\n",
       "    <tr>\n",
       "      <th>30</th>\n",
       "      <td>19.9</td>\n",
       "      <td>17.338731</td>\n",
       "    </tr>\n",
       "    <tr>\n",
       "      <th>31</th>\n",
       "      <td>5.3</td>\n",
       "      <td>3.958408</td>\n",
       "    </tr>\n",
       "    <tr>\n",
       "      <th>32</th>\n",
       "      <td>11.5</td>\n",
       "      <td>12.547222</td>\n",
       "    </tr>\n",
       "    <tr>\n",
       "      <th>33</th>\n",
       "      <td>22.3</td>\n",
       "      <td>21.041042</td>\n",
       "    </tr>\n",
       "    <tr>\n",
       "      <th>34</th>\n",
       "      <td>13.6</td>\n",
       "      <td>13.232855</td>\n",
       "    </tr>\n",
       "    <tr>\n",
       "      <th>35</th>\n",
       "      <td>14.6</td>\n",
       "      <td>15.833075</td>\n",
       "    </tr>\n",
       "    <tr>\n",
       "      <th>36</th>\n",
       "      <td>19.2</td>\n",
       "      <td>19.443052</td>\n",
       "    </tr>\n",
       "    <tr>\n",
       "      <th>37</th>\n",
       "      <td>19.4</td>\n",
       "      <td>20.369080</td>\n",
       "    </tr>\n",
       "    <tr>\n",
       "      <th>38</th>\n",
       "      <td>21.8</td>\n",
       "      <td>21.698933</td>\n",
       "    </tr>\n",
       "    <tr>\n",
       "      <th>39</th>\n",
       "      <td>11.3</td>\n",
       "      <td>11.060465</td>\n",
       "    </tr>\n",
       "  </tbody>\n",
       "</table>\n",
       "</div>"
      ],
      "text/plain": [
       "    original  predicted\n",
       "0       20.2  21.801637\n",
       "1       12.4  12.854147\n",
       "2       11.9  13.415866\n",
       "3       17.8  20.014626\n",
       "4       17.2  16.486458\n",
       "5       13.2  13.893853\n",
       "6       26.2  24.354612\n",
       "7       20.0  20.708716\n",
       "8        5.7   6.919848\n",
       "9       16.0  15.539834\n",
       "10      13.2  14.752465\n",
       "11       5.5   7.177480\n",
       "12      11.9   8.548241\n",
       "13       7.3   5.628245\n",
       "14       8.0   8.937981\n",
       "15      16.7  15.621235\n",
       "16      16.6  16.738888\n",
       "17      20.7  19.279602\n",
       "18      20.8  22.512239\n",
       "19       7.3   8.420539\n",
       "20      16.4  16.582733\n",
       "21      10.8  10.805721\n",
       "22      19.7  20.865290\n",
       "23      17.0  19.120849\n",
       "24      17.1  18.318626\n",
       "25      18.0  17.727401\n",
       "26      24.7  21.390594\n",
       "27      10.6  11.160443\n",
       "28      11.3   9.522001\n",
       "29      20.2  21.315146\n",
       "30      19.9  17.338731\n",
       "31       5.3   3.958408\n",
       "32      11.5  12.547222\n",
       "33      22.3  21.041042\n",
       "34      13.6  13.232855\n",
       "35      14.6  15.833075\n",
       "36      19.2  19.443052\n",
       "37      19.4  20.369080\n",
       "38      21.8  21.698933\n",
       "39      11.3  11.060465"
      ]
     },
     "execution_count": 57,
     "metadata": {},
     "output_type": "execute_result"
    }
   ],
   "source": [
    "a = np.array(y_test)\n",
    "predicted = np.array(lr.predict(x_test))\n",
    "sales_com = pd.DataFrame({\"original\": a, \"predicted\": predicted}, index = range(len(a)))\n",
    "sales_com"
   ]
  },
  {
   "cell_type": "markdown",
   "metadata": {},
   "source": [
    "# From the above table the model is predicted the values with 90 percent accuracy."
   ]
  }
 ],
 "metadata": {
  "kernelspec": {
   "display_name": "Python 3",
   "language": "python",
   "name": "python3"
  },
  "language_info": {
   "codemirror_mode": {
    "name": "ipython",
    "version": 3
   },
   "file_extension": ".py",
   "mimetype": "text/x-python",
   "name": "python",
   "nbconvert_exporter": "python",
   "pygments_lexer": "ipython3",
   "version": "3.8.5"
  }
 },
 "nbformat": 4,
 "nbformat_minor": 4
}
